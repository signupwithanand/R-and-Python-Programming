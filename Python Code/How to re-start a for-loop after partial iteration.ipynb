{
 "cells": [
  {
   "cell_type": "code",
   "execution_count": 10,
   "metadata": {},
   "outputs": [],
   "source": [
    "sentList = [\n",
    "     'this is list1',\n",
    "     'this is list2',\n",
    "     'if this is 3rd list, then great',\n",
    "     'this is 4th list',\n",
    "     'this is 5th list',\n",
    "     'if this is 6th list then it is fantastic',\n",
    "     'this is 7th list'\n",
    "    ]           "
   ]
  },
  {
   "cell_type": "code",
   "execution_count": 11,
   "metadata": {},
   "outputs": [],
   "source": [
    "def recurseFunc(sentList):\n",
    "    for i in sentList:\n",
    "        if i.startswith('if'):\n",
    "            print(i)\n",
    "            sentList.remove(i)\n",
    "            return recurseFunc(sentList)\n",
    "        else :\n",
    "            print(i, end = '--')"
   ]
  },
  {
   "cell_type": "code",
   "execution_count": 12,
   "metadata": {},
   "outputs": [
    {
     "name": "stdout",
     "output_type": "stream",
     "text": [
      "this is list1--this is list2--if this is 3rd list, then great\n",
      "this is list1--this is list2--this is 4th list--this is 5th list--if this is 6th list then it is fantastic\n",
      "this is list1--this is list2--this is 4th list--this is 5th list--this is 7th list--"
     ]
    }
   ],
   "source": [
    "recurseFunc(sentList)"
   ]
  },
  {
   "cell_type": "code",
   "execution_count": null,
   "metadata": {},
   "outputs": [],
   "source": []
  }
 ],
 "metadata": {
  "kernelspec": {
   "display_name": "Python 3",
   "language": "python",
   "name": "python3"
  },
  "language_info": {
   "codemirror_mode": {
    "name": "ipython",
    "version": 3
   },
   "file_extension": ".py",
   "mimetype": "text/x-python",
   "name": "python",
   "nbconvert_exporter": "python",
   "pygments_lexer": "ipython3",
   "version": "3.8.5"
  }
 },
 "nbformat": 4,
 "nbformat_minor": 4
}
