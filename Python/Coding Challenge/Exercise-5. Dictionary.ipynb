{
 "cells": [
  {
   "cell_type": "markdown",
   "metadata": {},
   "source": [
    "### 1) Create a dictionary with the below key, value pairs:\n",
    "Opener : Dhawan, Rohit, Gill, Shaw, Rahul\n",
    "\n",
    "Middle : Virat, Pujara, Mayank, Rahane, Pant\n",
    "\n",
    "Spin : Ashwin, Jadeja, Kuldeep\n",
    "\n",
    "Pace : Bumrah, Shami, Saini, Siraj, Natarajan"
   ]
  },
  {
   "cell_type": "code",
   "execution_count": 1,
   "metadata": {},
   "outputs": [
    {
     "data": {
      "text/plain": [
       "{'Opener': ['Dhawan', 'Rohit', 'Gill', 'Shaw', 'Rahul'],\n",
       " 'Middle': ['Virat', 'Pujara', 'Mayank', 'Rahane', 'Pant'],\n",
       " 'Spin': ['Ashwin', 'Jadeja', 'Kuldeep'],\n",
       " 'Pace': ['Bumrah', 'Shami', 'Saini', 'Siraj', 'Natarajan']}"
      ]
     },
     "execution_count": 1,
     "metadata": {},
     "output_type": "execute_result"
    }
   ],
   "source": [
    "teamIndia = {\n",
    "    'Opener' : ['Dhawan', 'Rohit', 'Gill', 'Shaw',\n",
    "               'Rahul'],\n",
    "    'Middle' : ['Virat', 'Pujara', 'Mayank', 'Rahane',\n",
    "               'Pant'],\n",
    "    'Spin' : ['Ashwin', 'Jadeja', 'Kuldeep'],\n",
    "    'Pace' : ['Bumrah', 'Shami', 'Saini', 'Siraj',\n",
    "             'Natarajan']\n",
    "}\n",
    "teamIndia"
   ]
  },
  {
   "cell_type": "markdown",
   "metadata": {},
   "source": [
    "### 2) Arrange the 'Opener's in descending order"
   ]
  },
  {
   "cell_type": "code",
   "execution_count": 3,
   "metadata": {},
   "outputs": [
    {
     "data": {
      "text/plain": [
       "['Dhawan', 'Rohit', 'Gill', 'Shaw', 'Rahul']"
      ]
     },
     "execution_count": 3,
     "metadata": {},
     "output_type": "execute_result"
    }
   ],
   "source": [
    "opener = teamIndia['Opener']\n",
    "opener"
   ]
  },
  {
   "cell_type": "code",
   "execution_count": 5,
   "metadata": {},
   "outputs": [
    {
     "data": {
      "text/plain": [
       "['Shaw', 'Rohit', 'Rahul', 'Gill', 'Dhawan']"
      ]
     },
     "execution_count": 5,
     "metadata": {},
     "output_type": "execute_result"
    }
   ],
   "source": [
    "sorted(opener, reverse = True, )"
   ]
  },
  {
   "cell_type": "markdown",
   "metadata": {},
   "source": [
    "### 3) Select 2 random Openers from the above dictionary"
   ]
  },
  {
   "cell_type": "code",
   "execution_count": 6,
   "metadata": {},
   "outputs": [
    {
     "data": {
      "text/plain": [
       "['Dhawan', 'Rohit', 'Gill', 'Shaw', 'Rahul']"
      ]
     },
     "execution_count": 6,
     "metadata": {},
     "output_type": "execute_result"
    }
   ],
   "source": [
    "opener"
   ]
  },
  {
   "cell_type": "code",
   "execution_count": 11,
   "metadata": {},
   "outputs": [
    {
     "data": {
      "text/plain": [
       "array(['Rohit', 'Dhawan'], dtype='<U6')"
      ]
     },
     "execution_count": 11,
     "metadata": {},
     "output_type": "execute_result"
    }
   ],
   "source": [
    "import numpy as np\n",
    "np.random.choice(opener,2,replace = False)"
   ]
  },
  {
   "cell_type": "markdown",
   "metadata": {},
   "source": [
    "### 4) Select 3 people from 'Pace' attack ensuring Bumrah is always selected from the above dictionary and save it as a list"
   ]
  },
  {
   "cell_type": "code",
   "execution_count": 14,
   "metadata": {},
   "outputs": [
    {
     "data": {
      "text/plain": [
       "['Bumrah', 'Shami', 'Saini', 'Siraj', 'Natarajan']"
      ]
     },
     "execution_count": 14,
     "metadata": {},
     "output_type": "execute_result"
    }
   ],
   "source": [
    "pace = teamIndia['Pace']\n",
    "pace"
   ]
  },
  {
   "cell_type": "code",
   "execution_count": 16,
   "metadata": {},
   "outputs": [
    {
     "data": {
      "text/plain": [
       "['Shami', 'Saini', 'Siraj', 'Natarajan']"
      ]
     },
     "execution_count": 16,
     "metadata": {},
     "output_type": "execute_result"
    }
   ],
   "source": [
    "pace = pace[1:]\n",
    "pace"
   ]
  },
  {
   "cell_type": "code",
   "execution_count": 22,
   "metadata": {},
   "outputs": [
    {
     "data": {
      "text/plain": [
       "array(['Saini', 'Natarajan'], dtype='<U9')"
      ]
     },
     "execution_count": 22,
     "metadata": {},
     "output_type": "execute_result"
    }
   ],
   "source": [
    "pacers = np.random.choice(pace, 2, replace = False)\n",
    "pacers"
   ]
  },
  {
   "cell_type": "code",
   "execution_count": 23,
   "metadata": {},
   "outputs": [
    {
     "data": {
      "text/plain": [
       "['Saini', 'Natarajan']"
      ]
     },
     "execution_count": 23,
     "metadata": {},
     "output_type": "execute_result"
    }
   ],
   "source": [
    "pacers = list(pacers)\n",
    "pacers"
   ]
  },
  {
   "cell_type": "code",
   "execution_count": 24,
   "metadata": {},
   "outputs": [],
   "source": [
    "pacers.append('Bumrah')"
   ]
  },
  {
   "cell_type": "code",
   "execution_count": 25,
   "metadata": {},
   "outputs": [
    {
     "data": {
      "text/plain": [
       "['Saini', 'Natarajan', 'Bumrah']"
      ]
     },
     "execution_count": 25,
     "metadata": {},
     "output_type": "execute_result"
    }
   ],
   "source": [
    "pacers"
   ]
  },
  {
   "cell_type": "code",
   "execution_count": null,
   "metadata": {},
   "outputs": [],
   "source": []
  }
 ],
 "metadata": {
  "kernelspec": {
   "display_name": "Python 3",
   "language": "python",
   "name": "python3"
  },
  "language_info": {
   "codemirror_mode": {
    "name": "ipython",
    "version": 3
   },
   "file_extension": ".py",
   "mimetype": "text/x-python",
   "name": "python",
   "nbconvert_exporter": "python",
   "pygments_lexer": "ipython3",
   "version": "3.8.5"
  }
 },
 "nbformat": 4,
 "nbformat_minor": 4
}
