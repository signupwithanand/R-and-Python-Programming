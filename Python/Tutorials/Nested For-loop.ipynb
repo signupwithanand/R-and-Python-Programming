{
 "cells": [
  {
   "cell_type": "code",
   "execution_count": 1,
   "metadata": {},
   "outputs": [],
   "source": [
    "team = [\"Uttam\", \"Nikhil\", \"Ravi\", \"Bhavesh\"]\n",
    "task = [\"sales report\", \"client visit report\"]"
   ]
  },
  {
   "cell_type": "code",
   "execution_count": 6,
   "metadata": {},
   "outputs": [
    {
     "name": "stdout",
     "output_type": "stream",
     "text": [
      "Uttam\n",
      "sales report\n",
      "client visit report\n",
      "\n",
      "Nikhil\n",
      "sales report\n",
      "client visit report\n",
      "\n",
      "Ravi\n",
      "sales report\n",
      "client visit report\n",
      "\n",
      "Bhavesh\n",
      "sales report\n",
      "client visit report\n",
      "\n"
     ]
    }
   ],
   "source": [
    "# Nested for-loop\n",
    "for i in team:\n",
    "    print(i)\n",
    "    for j in task:\n",
    "        print(j)\n",
    "    print()"
   ]
  },
  {
   "cell_type": "code",
   "execution_count": null,
   "metadata": {},
   "outputs": [],
   "source": []
  }
 ],
 "metadata": {
  "kernelspec": {
   "display_name": "Python 3",
   "language": "python",
   "name": "python3"
  },
  "language_info": {
   "codemirror_mode": {
    "name": "ipython",
    "version": 3
   },
   "file_extension": ".py",
   "mimetype": "text/x-python",
   "name": "python",
   "nbconvert_exporter": "python",
   "pygments_lexer": "ipython3",
   "version": "3.8.5"
  }
 },
 "nbformat": 4,
 "nbformat_minor": 4
}
